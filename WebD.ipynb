{
 "cells": [
  {
   "cell_type": "markdown",
   "metadata": {},
   "source": [
    "### WebD: \n",
    "All the eye catching and beautiful websites that we all see and use in our daily lives are a product of Web Development. World Wide Web is a huge network of inter connected networks developed by Tim Berners Lee.\n",
    "\n",
    "There are two types of websites, static and dynamic websites.\n",
    "\n",
    "A static website does not change its value. Once deployed, the website remains as it is and does not need to be changed again and again for example, a blog site. Languages: html, css, bootstrap.\n",
    "\n",
    "Dynamic website requires to be changed again and again. For example, a weather site. It requires API and frame works like react, node.js, angular.\n",
    "\n",
    "https://www.w3schools.com/\n",
    "https://learn.freecodecamp.org/"
   ]
  }
 ],
 "metadata": {
  "kernelspec": {
   "display_name": "Python 3",
   "language": "python",
   "name": "python3"
  },
  "language_info": {
   "codemirror_mode": {
    "name": "ipython",
    "version": 3
   },
   "file_extension": ".py",
   "mimetype": "text/x-python",
   "name": "python",
   "nbconvert_exporter": "python",
   "pygments_lexer": "ipython3",
   "version": "3.7.3"
  }
 },
 "nbformat": 4,
 "nbformat_minor": 2
}
