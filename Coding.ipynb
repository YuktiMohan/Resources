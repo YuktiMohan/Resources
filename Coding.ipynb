{
 "cells": [
  {
   "cell_type": "markdown",
   "metadata": {},
   "source": [
    "The best way to learn coding is by practicing. \n",
    "The best sites for practicing and enhancing your coding skills are:\n",
    "\n",
    "1. HackerRank: https://www.hackerrank.com\n",
    "2. CodeChef: https://www.codechef.com\n",
    "3. Hacker Earth: https://www.hackerearth.com\n",
    "4. Geeks for geeks: https://www.geeksforgeeks.org\n",
    "\n",
    "All those people who wish to go for competitive coding must practice on these sites. They also host competitions time to time and have really attractive prizes. If you perform well in these competitions and stand out from the rest of the crowd, then there is a high chance that you might get hired by one of their partner companies."
   ]
  }
 ],
 "metadata": {
  "kernelspec": {
   "display_name": "Python 3",
   "language": "python",
   "name": "python3"
  },
  "language_info": {
   "codemirror_mode": {
    "name": "ipython",
    "version": 3
   },
   "file_extension": ".py",
   "mimetype": "text/x-python",
   "name": "python",
   "nbconvert_exporter": "python",
   "pygments_lexer": "ipython3",
   "version": "3.7.3"
  }
 },
 "nbformat": 4,
 "nbformat_minor": 2
}
