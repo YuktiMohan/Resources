{
 "cells": [
  {
   "cell_type": "markdown",
   "metadata": {},
   "source": [
    "### Data Science: \n",
    "Data science is a multi-disciplinary field that uses scientific methods, processes, algorithms and systems to extract knowledge and insights from structured and unstructured data. Machine learning and deep learning: It is the ability which provides systems the ability to automatically learn and improve from experience without being explicitly programmed. The difference between the two is that ML uses less amount of data whereas DL comes into play when the size of the data set is humongous, which is a common scenario in today’s world. Another difference is between their architectures. \n",
    "\n",
    "#### Machine Learning: \n",
    "1. Coursera: https://www.coursera.org/learn/machine-learning\n",
    "2. Udemy: https://www.udemy.com/machinelearning/\n",
    "3. Udacity: https://www.udacity.com/course/intro-to-machine-learning--ud120\n",
    "4. edX: https://www.edx.org/learn/machine-learning \n",
    "\n",
    "#### Deep learning: \n",
    "1. Coursera: https://www.coursera.org/specializations/deep-learning\n",
    "2. edX: https://www.edx.org/professional-certificate/ibm-deep-learning\n",
    "3. MIT Opencourseware: https://deeplearning.mit.edu\n",
    "4. Fast.ai: https://course.fast.ai/"
   ]
  }
 ],
 "metadata": {
  "kernelspec": {
   "display_name": "Python 3",
   "language": "python",
   "name": "python3"
  },
  "language_info": {
   "codemirror_mode": {
    "name": "ipython",
    "version": 3
   },
   "file_extension": ".py",
   "mimetype": "text/x-python",
   "name": "python",
   "nbconvert_exporter": "python",
   "pygments_lexer": "ipython3",
   "version": "3.7.3"
  }
 },
 "nbformat": 4,
 "nbformat_minor": 2
}
