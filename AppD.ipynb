{
 "cells": [
  {
   "cell_type": "markdown",
   "metadata": {},
   "source": [
    "### AppD: \n",
    "App development or application development is the process of making apps for mobiles or tablets. You all must have seen playstore where you can find thousands and thousands of apps for various purposes. Because of the two main competitors, Google and Apple, there are two types of App Development, which is Android and IOS.\n",
    "\n",
    "#### IOS: \n",
    "The language used is Swift which was developed by Apple itself. All the Apple product users have free access to the resources like swift video lectures and books through which one can learn this language.\n",
    "https://developer.apple.com/swift/\n",
    "\n",
    "#### Android:\n",
    "\n",
    "##### * The best software for android development is Android studio, obviously developed by Google. It is written in Java, Kotlin and C++.\n",
    "1. Youtube: https://www.youtube.com/watch?v=roDz8mMvbIg&list=PLknSwrodgQ72X4sKpzf5vT8kY80HKcUSe\n",
    "2. Udacity: https://www.udacity.com/course/new-android-fundamentals--ud851\n",
    "3. Kotlin: https://kotlinlang.org\n",
    "\n",
    "##### * Another framework created by Google is Flutter in which both Android and iOS apps can be developed.\n",
    "\n",
    "https://flutter.dev/\n",
    "\n",
    "##### * Lastly, apps can be made using python frameworks such as KIVY.\n",
    "\n",
    "https://www.youtube.com/watch?v=CYNWK2GpwgA&list=PLQVvvaa0QuDe_l6XiJ40yGTEqIKugAdTy"
   ]
  },
  {
   "cell_type": "code",
   "execution_count": null,
   "metadata": {},
   "outputs": [],
   "source": []
  }
 ],
 "metadata": {
  "kernelspec": {
   "display_name": "Python 3",
   "language": "python",
   "name": "python3"
  },
  "language_info": {
   "codemirror_mode": {
    "name": "ipython",
    "version": 3
   },
   "file_extension": ".py",
   "mimetype": "text/x-python",
   "name": "python",
   "nbconvert_exporter": "python",
   "pygments_lexer": "ipython3",
   "version": "3.7.3"
  }
 },
 "nbformat": 4,
 "nbformat_minor": 2
}
