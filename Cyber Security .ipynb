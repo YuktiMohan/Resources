{
 "cells": [
  {
   "cell_type": "markdown",
   "metadata": {},
   "source": [
    "### Cyber Security: \n",
    "It means the protection of a site, software or network from the external attack. In this\n",
    "field, we have to stop people who try to steal our personal and confidential information. Attacks include\n",
    "phishing, malwares and so on. Ethical hacking is a type of hacking which is legal and is done to\n",
    "implement cyber security.\n",
    "\n",
    "1. Youtube: https://www.youtube.com/watch?v=tHd8k54kVs8&list=PLBf0hzazHTGOEuhPQSnq-Ej8jRyXxfYvl\n",
    "2. Udemy: https://www.udemy.com/topic/cyber-security/\n",
    "3. Coursera: https://www.coursera.org/courses?query=cyber%20security\n",
    "4. Microsoft Professional Program: https://academy.microsoft.com/en-us/professionalprogram/tracks/cyber-security/"
   ]
  }
 ],
 "metadata": {
  "kernelspec": {
   "display_name": "Python 3",
   "language": "python",
   "name": "python3"
  },
  "language_info": {
   "codemirror_mode": {
    "name": "ipython",
    "version": 3
   },
   "file_extension": ".py",
   "mimetype": "text/x-python",
   "name": "python",
   "nbconvert_exporter": "python",
   "pygments_lexer": "ipython3",
   "version": "3.7.3"
  }
 },
 "nbformat": 4,
 "nbformat_minor": 2
}
