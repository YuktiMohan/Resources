{
 "cells": [
  {
   "cell_type": "markdown",
   "metadata": {},
   "source": [
    "### Virtual Reality and Augmented Reality: \n",
    "Virtual Reality (VR) is the use of computer technology to create a simulated environment. Unlike traditional user interfaces, VR places the user inside an experience. Instead of viewing a screen in front of them, users are immersed and able to interact with 3D world. Augmented Reality is a technology that superimposes a computer-generated image on a user's view of the real world, thus providing a composite view.\n",
    "\n",
    "##### * C#\n",
    "##### * C/C++\n",
    "##### * Java\n",
    "##### * JavaScript\n",
    "##### * Python\n",
    "##### * Visual development tools\n",
    "##### * Swift\n",
    "\n",
    "1. The Unreal Engine C++ Developer Course – Learn C++ & Make Games \n",
    "2. Building your First VR Experience with Unity \n",
    "3. Unreal VR Dev: Make VR Experiences with Unreal Engine C++ (Udemy) \n",
    "4. Unreal Engine 4: Project Based VR Course for Arch Viz in UE4 \n",
    "5. Complete C# Unity Developer 3D: Learn to Code Making Games (Udemy) \n",
    "6. Virtual Reality – VR Certification (App Development) (edX) \n",
    "7. Build Virtual Reality Games for Google Cardboard Using Unity \n",
    "8. React VR – Creating Virtual Reality Apps \n",
    "9. Virtual Reality Courses for Beginners & Experts (LinkedIn Learning – Lynda) \n",
    "10. Build Virtual Reality Games for Android and iPhone\n",
    "\n",
    "### Game Development: \n",
    "Most commonly used software is Unity. Game Development is the art of creating games and describes the design, development and release of a game. It may involve concept generation, design, build, test and release. While you create a game, it is important to think about the game mechanics, rewards, player engagement and level design. A game developer could be a programmer, a sound designer, an artist, a designer or many other roles available in the industry.\n",
    "\n",
    "##### * C++\n",
    "##### * Java\n",
    "##### * HTML5\n",
    "##### * CSS3\n",
    "##### * JavaScript\n",
    "##### * SQL\n",
    "\n",
    "1. https://unity.com/learn/partner-courses \n",
    "2. Complete C# Unity Developer 3D: Learn to Code Making Games (Udemy)\n"
   ]
  }
 ],
 "metadata": {
  "kernelspec": {
   "display_name": "Python 3",
   "language": "python",
   "name": "python3"
  },
  "language_info": {
   "codemirror_mode": {
    "name": "ipython",
    "version": 3
   },
   "file_extension": ".py",
   "mimetype": "text/x-python",
   "name": "python",
   "nbconvert_exporter": "python",
   "pygments_lexer": "ipython3",
   "version": "3.7.3"
  }
 },
 "nbformat": 4,
 "nbformat_minor": 2
}
