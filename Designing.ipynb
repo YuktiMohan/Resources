{
 "cells": [
  {
   "cell_type": "markdown",
   "metadata": {},
   "source": [
    "### Graphic Design: \n",
    "A person with great artistic skills and a creative imagination can consider graphic design as a career option. It includes designing of logos and posters for various purposes and organisations. It is a very powerful skill because it the visuals which impact us the most. \n",
    "\n",
    "#### Graphic designer: \n",
    "Use their imagination, color, typography, and design to communicate the idea or message through print, web or visual design. This type of design is also considered as an “art”. The basic role of the graphic designer is to attach emotions and feeling to the polished product or services of the company by choosing the right font, and other visual design elements. \n",
    "Softwares commonly used by Graphic Designers are: \n",
    "1. Corel Draw \n",
    "2. Adobe InDesign \n",
    "3. Adobe Illustrator \n",
    "4. Adobe Photoshop \n",
    "\n",
    "#### UX Designer: \n",
    "UX design focuses on the logic and structure behind the elements you actually interact with on any web or mobile application or any software. The UX designers through different approaches to solving the user-specific problem and completely user-centric. The UX design has to be performed in two different phases termed as “research” and “validation”. \n",
    "1. Mouse Stats \n",
    "2. Usabila \n",
    "3. Naview \n",
    "4. Adobe XD \n",
    "5. User Testing \n",
    "6. Sketch \n",
    "7. Zeplin \n",
    "8. Adobe Photoshop \n",
    "9. Adobe Illustrator\n",
    "\n",
    "#### UI Designer: \n",
    "UI design is more concerned with the look and feel of the product. It is completely based upon the UX provided by the UX designer. UI Designer handles the designing of each screen or interfaces where a user interacts and is responsible to visually communicate the path as UX has been designed. The UI designer deals with interactive elements such as buttons, color scheme, form input fields, animations, drop down menu and typography. \n",
    "1. Adobe XD \n",
    "2. Sketch \n",
    "3. Adobe Photoshop\n",
    "4. Adobe Illustrator \n",
    "5. Zeplin \n",
    "6. Invision App\n",
    "\n",
    "https://99designs.com/blog/tips/types-of-graphic-design/"
   ]
  }
 ],
 "metadata": {
  "kernelspec": {
   "display_name": "Python 3",
   "language": "python",
   "name": "python3"
  },
  "language_info": {
   "codemirror_mode": {
    "name": "ipython",
    "version": 3
   },
   "file_extension": ".py",
   "mimetype": "text/x-python",
   "name": "python",
   "nbconvert_exporter": "python",
   "pygments_lexer": "ipython3",
   "version": "3.7.3"
  }
 },
 "nbformat": 4,
 "nbformat_minor": 2
}
