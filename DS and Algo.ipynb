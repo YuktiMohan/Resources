{
 "cells": [
  {
   "cell_type": "markdown",
   "metadata": {},
   "source": [
    "Data structures are the raw materials and algorithm is the process. When an algorithm is applied on data structures we get our desired output. These two topics are a must have for all branches because these provide you with a foundation for all the other fields relating to electronics, communication and majorly Computer science.\n",
    "\n",
    "Some examples of Data Structures are:\n",
    "\n",
    "Basic Data Types (Integers, floating point numbers, etc)\n",
    "\n",
    "Derived Data Types:\n",
    "1. Stacks\n",
    "2. Queues\n",
    "3. Linked list\n",
    "4. Graphs\n",
    "5. Trees\n",
    "\n",
    "Some important categories of algorithms are:\n",
    "1. Search\n",
    "2. Sort\n",
    "3. Insert\n",
    "4. Update\n",
    "5. Delete\n",
    "6. Recursion\n",
    "\n",
    "Resources:\n",
    "1. Introduction to algorithms, MIT course on YouTube: Massachusetts Institute of Technology provides an online course on YouTube for DS and Algo.\n",
    "https://www.youtube.com/watch?v=HtSuA80QTyo&list=PLUl4u3cNGP61Oq3tWYp6V_F-5jb5L2iHb\n",
    "\n",
    "2. Codechef: This site provides you with all the links at one place. It is presented in a sequential manner and hence you can follow the site completely.\n",
    "https://www.codechef.com/certification/data-structures-and-algorithms/prepare#foundation\n",
    "\n",
    "3. Coursera: This is a specialization and it consists of 6 courses. On coursera, more often than not, you can audit a course which means that you will get access to all the study material but you will not be able to submit your assignments for grading and hence you won’t be getting a certification on completion of the course. If you wish to get the certificate you can always buy the course. But I would suggest that you must not buy all the courses and use the study material to enhance your knowledge on subjects like graphic designing where the value of your work and projects is more than the certification of completion of the course.\n",
    "https://www.coursera.org/specializations/algorithms\n",
    "https://www.coursera.org/specializations/data-structures-algorithms\n",
    "\n",
    "4. Udacity: This is a free course on Udacity but there are some prerequisites to this course like intermediate knowledge of python and algebra.\n",
    "https://www.udacity.com/course/data-structures-and-algorithms-in-python--ud513\n",
    "\n",
    "5. Tutorials point:\n",
    "https://www.tutorialspoint.com/data_structures_algorithms/array_data_structure.htm"
   ]
  }
 ],
 "metadata": {
  "kernelspec": {
   "display_name": "Python 3",
   "language": "python",
   "name": "python3"
  },
  "language_info": {
   "codemirror_mode": {
    "name": "ipython",
    "version": 3
   },
   "file_extension": ".py",
   "mimetype": "text/x-python",
   "name": "python",
   "nbconvert_exporter": "python",
   "pygments_lexer": "ipython3",
   "version": "3.7.3"
  }
 },
 "nbformat": 4,
 "nbformat_minor": 2
}
